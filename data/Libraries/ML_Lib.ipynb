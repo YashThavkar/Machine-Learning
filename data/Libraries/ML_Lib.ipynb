{
 "cells": [
  {
   "cell_type": "markdown",
   "id": "9e789cb9",
   "metadata": {},
   "source": [
    "# Numpy\n",
    "\n"
   ]
  },
  {
   "cell_type": "code",
   "execution_count": 1,
   "id": "5843c77e",
   "metadata": {},
   "outputs": [
    {
     "name": "stdout",
     "output_type": "stream",
     "text": [
      "([1, 2, 3, 4], [5, 6, 7])\n",
      "<class 'tuple'>\n"
     ]
    }
   ],
   "source": [
    "import numpy as np\n",
    "n1 = ([1,2,3,4],[5,6,7])\n",
    "print(n1)\n",
    "print(type(n1))"
   ]
  },
  {
   "cell_type": "code",
   "execution_count": 2,
   "id": "c1f91117",
   "metadata": {},
   "outputs": [
    {
     "name": "stdout",
     "output_type": "stream",
     "text": [
      "[1 2 3 4]\n",
      "<class 'numpy.ndarray'>\n"
     ]
    }
   ],
   "source": [
    "l1=[1,2,3,4]\n",
    "n2= np.array(l1)\n",
    "print((n2))\n",
    "print(type(n2))\n",
    "\n"
   ]
  },
  {
   "cell_type": "code",
   "execution_count": 3,
   "id": "ef0f569f",
   "metadata": {},
   "outputs": [
    {
     "name": "stdout",
     "output_type": "stream",
     "text": [
      "[[0. 0. 0.]\n",
      " [0. 0. 0.]\n",
      " [0. 0. 0.]]\n"
     ]
    }
   ],
   "source": [
    "#practicsing numpy with zeroes\n",
    "\n",
    "n3=np.zeros((3,3))\n",
    "print(n3)\n"
   ]
  },
  {
   "cell_type": "code",
   "execution_count": 4,
   "id": "fb63b139",
   "metadata": {},
   "outputs": [
    {
     "name": "stdout",
     "output_type": "stream",
     "text": [
      "[[43 43 43]\n",
      " [43 43 43]\n",
      " [43 43 43]]\n"
     ]
    }
   ],
   "source": [
    "#printing the same number in all coordinate\n",
    "\n",
    "n4=np.full((3,3), 43)\n",
    "print(n4)\n",
    "\n"
   ]
  },
  {
   "cell_type": "code",
   "execution_count": 5,
   "id": "b58b00e5",
   "metadata": {},
   "outputs": [
    {
     "name": "stdout",
     "output_type": "stream",
     "text": [
      "[10 11 12 13 14 15 16 17 18 19]\n",
      "[ 0  2  4  6  8 10 12 14 16 18 20]\n"
     ]
    }
   ],
   "source": [
    "#range from numbers\n",
    "\n",
    "n5=np.arange(10,20)\n",
    "n6=np.arange(0,21,2)\n",
    "print(n5)\n",
    "print(n6)\n",
    "\n"
   ]
  },
  {
   "cell_type": "code",
   "execution_count": 6,
   "id": "187525ac",
   "metadata": {},
   "outputs": [
    {
     "name": "stdout",
     "output_type": "stream",
     "text": [
      "[15 14 18 16 12 16 18]\n"
     ]
    }
   ],
   "source": [
    "#array with random numbers \n",
    "n7 =np.random.randint(10,20,7)\n",
    "print(n7)\n",
    "\n"
   ]
  },
  {
   "cell_type": "code",
   "execution_count": 7,
   "id": "a55f85d8",
   "metadata": {},
   "outputs": [
    {
     "name": "stdout",
     "output_type": "stream",
     "text": [
      "(2, 4)\n"
     ]
    }
   ],
   "source": [
    "#shape of numpy arrays\n",
    "n8 =np.array([[1,2,3,4],[6,7,8,9]])\n",
    "print(np.shape(n8))\n",
    "\n"
   ]
  },
  {
   "cell_type": "code",
   "execution_count": 8,
   "id": "26a48986",
   "metadata": {},
   "outputs": [
    {
     "name": "stdout",
     "output_type": "stream",
     "text": [
      "[[1 2 3 4]\n",
      " [6 7 1 3]\n",
      " [6 8 7 6]\n",
      " [4 3 9 7]]\n"
     ]
    }
   ],
   "source": [
    "#joining the arrays\n",
    "\n",
    "#vstack\n",
    "\n",
    "n9=np.array([[1,2,3,4],[6,7,1,3]])\n",
    "n10=np.array([[6,8,7,6],[4,3,9,7]])\n",
    "print(np.vstack((n9,n10)))\n",
    "\n"
   ]
  },
  {
   "cell_type": "code",
   "execution_count": 9,
   "id": "f78d5d71",
   "metadata": {},
   "outputs": [
    {
     "name": "stdout",
     "output_type": "stream",
     "text": [
      "[[1 2 3 4 8 7 6 5]\n",
      " [4 6 7 8 4 3 2 1]]\n"
     ]
    }
   ],
   "source": [
    "#hstack\n",
    "\n",
    "n11=np.array([[1,2,3,4],[4,6,7,8]])\n",
    "n12=np.array([[8,7,6,5],[4,3,2,1]])\n",
    "print(np.hstack((n11,n12)))\n",
    "\n",
    "\n"
   ]
  },
  {
   "cell_type": "code",
   "execution_count": 10,
   "id": "b05f0a8e",
   "metadata": {},
   "outputs": [
    {
     "name": "stdout",
     "output_type": "stream",
     "text": [
      "[[1 5]\n",
      " [2 6]\n",
      " [3 7]\n",
      " [4 8]]\n"
     ]
    }
   ],
   "source": [
    "#row to column\n",
    "n13= np.array([1,2,3,4])\n",
    "n14=np.array([5,6,7,8])\n",
    "print(np.column_stack((n13,n14)))\n",
    "\n"
   ]
  },
  {
   "cell_type": "code",
   "execution_count": 11,
   "id": "557f748a",
   "metadata": {},
   "outputs": [
    {
     "name": "stdout",
     "output_type": "stream",
     "text": [
      "[[1 2 3 4]\n",
      " [5 6 7 8]]\n"
     ]
    }
   ],
   "source": [
    "#column to row\n",
    "n15= np.array([1,2,3,4])\n",
    "n16=np.array([5,6,7,8])\n",
    "print(np.row_stack((n15,n16)))\n",
    "\n",
    "\n"
   ]
  },
  {
   "cell_type": "code",
   "execution_count": 12,
   "id": "d460964a",
   "metadata": {},
   "outputs": [
    {
     "name": "stdout",
     "output_type": "stream",
     "text": [
      "[30 50 60]\n"
     ]
    }
   ],
   "source": [
    "#finding the same number from diff arrays\n",
    "n17= np.array([[10,20,30,40,50,60]])\n",
    "n18=np.array([[30,50,60,70,80,90]])\n",
    "print(np.intersect1d(n17,n18))\n",
    "\n"
   ]
  },
  {
   "cell_type": "code",
   "execution_count": 13,
   "id": "8d156b77",
   "metadata": {},
   "outputs": [
    {
     "name": "stdout",
     "output_type": "stream",
     "text": [
      "[1 2 3]\n",
      "[7 8 9]\n"
     ]
    }
   ],
   "source": [
    "#finding different numbers\n",
    "\n",
    "n19=np.array([1,2,3,4,5,6])\n",
    "n20=np.array([4,5,6,7,8,9])\n",
    "print(np.setdiff1d(n19,n20))\n",
    "\n",
    "print(np.setdiff1d(n20,n19))\n",
    "\n"
   ]
  },
  {
   "cell_type": "code",
   "execution_count": 14,
   "id": "f0fc731a",
   "metadata": {},
   "outputs": [
    {
     "name": "stdout",
     "output_type": "stream",
     "text": [
      "300\n"
     ]
    }
   ],
   "source": [
    "#adding two arrays\n",
    "n21=np.array([10,20,30,40,50])\n",
    "n22=np.array([10,20,30,40,50])\n",
    "print(np.sum((n21,n22)))\n",
    "\n"
   ]
  },
  {
   "cell_type": "code",
   "execution_count": 15,
   "id": "ac55bf0d",
   "metadata": {},
   "outputs": [
    {
     "name": "stdout",
     "output_type": "stream",
     "text": [
      "[ 20  40  60  80 100]\n",
      "[150 150]\n"
     ]
    }
   ],
   "source": [
    "#if we want to add column or row than\n",
    "\n",
    "print(np.sum((n21,n22),axis=0))\n",
    "\n",
    "print(np.sum((n21,n22),axis=1))\n",
    "\n"
   ]
  },
  {
   "cell_type": "code",
   "execution_count": 16,
   "id": "d6d42605",
   "metadata": {},
   "outputs": [
    {
     "name": "stdout",
     "output_type": "stream",
     "text": [
      "[11 21 31 41]\n",
      "[10 20 30 40]\n",
      "[ 5 10 15 20 25]\n",
      "[2. 4. 6. 8.]\n"
     ]
    }
   ],
   "source": [
    "# basic calculations\n",
    "\n",
    "#addition\n",
    "\n",
    "n23=np.array([10,20,30,40])\n",
    "n23=n23+1\n",
    "print(n23)\n",
    "\n",
    "#substraction\n",
    "\n",
    "n24=np.array([11,21,31,41])\n",
    "n24=n24-1\n",
    "print(n24)\n",
    "\n",
    "#multiplication\n",
    "n25=np.array([1,2,3,4,5])\n",
    "n25=n25*5\n",
    "print(n25)\n",
    "\n",
    "#division\n",
    "n26=np.array([24,48,72,96])\n",
    "n26=n26/12\n",
    "print(n26)\n",
    "\n",
    "\n"
   ]
  },
  {
   "cell_type": "code",
   "execution_count": 17,
   "id": "63c94f85",
   "metadata": {},
   "outputs": [
    {
     "name": "stdout",
     "output_type": "stream",
     "text": [
      "29.5\n",
      "11.180339887498949\n",
      "40.0\n",
      "[10 20 30 40 50 60]\n"
     ]
    }
   ],
   "source": [
    "#Math Function\n",
    "\n",
    "#mean\n",
    "\n",
    "n27=np.array([20,22,32,44])\n",
    "print(np.mean(n27))\n",
    "\n",
    "#standard deviation\n",
    "n28=np.array([30,40,20,10])\n",
    "print(np.std(n28))\n",
    "\n",
    "#median\n",
    "n29=np.array([50,60,30,10])\n",
    "print(np.median(n29))\n",
    "\n",
    "#save and load\n",
    "\n",
    "n30=np.array([10,20,30,40,50,60])\n",
    "np.save('numpy_array', n30)\n",
    "\n",
    "n31=np.load('numpy_array.npy')\n",
    "print(n31)"
   ]
  },
  {
   "cell_type": "markdown",
   "id": "9f94b1bb",
   "metadata": {},
   "source": [
    "# Pandas"
   ]
  },
  {
   "cell_type": "code",
   "execution_count": 18,
   "id": "41c6165b",
   "metadata": {},
   "outputs": [
    {
     "name": "stdout",
     "output_type": "stream",
     "text": [
      "0    1\n",
      "1    2\n",
      "2    3\n",
      "3    4\n",
      "4    5\n",
      "dtype: int64\n"
     ]
    }
   ],
   "source": [
    "# Pandas stands for panel data\n",
    "\n",
    "import pandas as pd\n",
    "\n",
    "#now we will make a series\n",
    "s1 = pd.Series([1,2,3,4,5])\n",
    "print(s1)"
   ]
  },
  {
   "cell_type": "code",
   "execution_count": 19,
   "id": "82b095bb",
   "metadata": {},
   "outputs": [
    {
     "name": "stdout",
     "output_type": "stream",
     "text": [
      "<class 'pandas.core.series.Series'>\n"
     ]
    }
   ],
   "source": [
    "print(type(s1))"
   ]
  },
  {
   "cell_type": "code",
   "execution_count": 20,
   "id": "aef53402",
   "metadata": {},
   "outputs": [
    {
     "name": "stdout",
     "output_type": "stream",
     "text": [
      "a    1\n",
      "b    2\n",
      "c    3\n",
      "d    4\n",
      "e    5\n",
      "f    6\n",
      "g    7\n",
      "dtype: int64\n"
     ]
    }
   ],
   "source": [
    "s2 = pd.Series([1,2,3,4,5,6,7],index=['a','b','c','d','e', 'f','g'])\n",
    "print(s2)"
   ]
  },
  {
   "cell_type": "code",
   "execution_count": 21,
   "id": "8d168f50",
   "metadata": {},
   "outputs": [
    {
     "name": "stdout",
     "output_type": "stream",
     "text": [
      "b1       Axar\n",
      "b2     Dinesh\n",
      "b3      Dhoni\n",
      "b4      Raina\n",
      "dtype: object\n"
     ]
    }
   ],
   "source": [
    "s3 = pd.Series({'b1':'Axar','b2':' Dinesh', 'b3':'Dhoni','b4':'Raina'})\n",
    "print(s3)"
   ]
  },
  {
   "cell_type": "code",
   "execution_count": 22,
   "id": "09d4fc48",
   "metadata": {},
   "outputs": [
    {
     "name": "stdout",
     "output_type": "stream",
     "text": [
      "b3      Dhoni\n",
      "b4      Raina\n",
      "b2     Dinesh\n",
      "b1       Axar\n",
      "dtype: object\n",
      "<class 'pandas.core.series.Series'>\n"
     ]
    }
   ],
   "source": [
    "s4 = pd.Series({'b1':'Axar','b2':' Dinesh', 'b3':'Dhoni','b4':'Raina'}, index=['b3','b4','b2','b1'])\n",
    "print(s4)\n",
    "print(type(s4))"
   ]
  },
  {
   "cell_type": "code",
   "execution_count": 23,
   "id": "9f8bcf04",
   "metadata": {},
   "outputs": [
    {
     "name": "stdout",
     "output_type": "stream",
     "text": [
      "0\n"
     ]
    }
   ],
   "source": [
    "#extracting Single Element from array\n",
    "\n",
    "s5= [1,2,3,4,5,6,7,8,9,0,10,11,12,13,14,15]\n",
    "print(s5[9])"
   ]
  },
  {
   "cell_type": "code",
   "execution_count": 24,
   "id": "caf962a8",
   "metadata": {},
   "outputs": [
    {
     "name": "stdout",
     "output_type": "stream",
     "text": [
      "[2, 3, 4, 5, 6, 7, 8, 9, 0, 10, 11, 12, 13, 14, 15]\n"
     ]
    }
   ],
   "source": [
    "#extracting elements from back\n",
    "s6= [1,2,3,4,5,6,7,8,9,0,10,11,12,13,14,15]\n",
    "print(s6[-15:])"
   ]
  },
  {
   "cell_type": "code",
   "execution_count": 25,
   "id": "11d2c50f",
   "metadata": {},
   "outputs": [
    {
     "name": "stdout",
     "output_type": "stream",
     "text": [
      "[1, 2, 3, 4, 5]\n"
     ]
    }
   ],
   "source": [
    "#extracting sequence of elements\n",
    "print(s6[:5])"
   ]
  },
  {
   "cell_type": "code",
   "execution_count": 26,
   "id": "42365ae9",
   "metadata": {},
   "outputs": [
    {
     "name": "stdout",
     "output_type": "stream",
     "text": [
      "0          1\n",
      "1          2\n",
      "2          3\n",
      "3          4\n",
      "4          5\n",
      "5          6\n",
      "6          7\n",
      "7          8\n",
      "8          9\n",
      "9          0\n",
      "10        10\n",
      "11        11\n",
      "12        12\n",
      "13        13\n",
      "14        14\n",
      "15        15\n",
      "16        23\n",
      "17        52\n",
      "18        34\n",
      "19        45\n",
      "20        65\n",
      "21         6\n",
      "22        67\n",
      "23         7\n",
      "24       787\n",
      "25       687\n",
      "26        54\n",
      "27    345243\n",
      "dtype: int64\n"
     ]
    }
   ],
   "source": [
    "s7= [1,2,3,4,5,6,7,8,9,0,10,11,12,13,14,15]\n",
    "s8= [23,52,34,45,65,6,67,7,787,687,54,345243]\n",
    "s9=pd.Series(s7+s8)\n",
    "print(s9)"
   ]
  },
  {
   "cell_type": "code",
   "execution_count": 27,
   "id": "3af01847",
   "metadata": {},
   "outputs": [
    {
     "name": "stdout",
     "output_type": "stream",
     "text": [
      "0     24.0\n",
      "1     54.0\n",
      "2     37.0\n",
      "3     49.0\n",
      "4     70.0\n",
      "5     12.0\n",
      "6     74.0\n",
      "7     15.0\n",
      "8     86.0\n",
      "9     67.0\n",
      "10    64.0\n",
      "11    45.0\n",
      "12     NaN\n",
      "13     NaN\n",
      "14     NaN\n",
      "15     NaN\n",
      "dtype: float64\n"
     ]
    }
   ],
   "source": [
    "s7= pd.Series([1,2,3,4,5,6,7,8,9,0,10,11,12,13,14,15])\n",
    "s8= pd.Series([23,52,34,45,65,6,67,7,77,67,54,34])\n",
    "s9=(s7+s8)\n",
    "print(s9)"
   ]
  },
  {
   "cell_type": "code",
   "execution_count": 28,
   "id": "b67cabc8",
   "metadata": {},
   "outputs": [
    {
     "name": "stdout",
     "output_type": "stream",
     "text": [
      "0      39.0\n",
      "1      69.0\n",
      "2      52.0\n",
      "3      64.0\n",
      "4      85.0\n",
      "5      27.0\n",
      "6      89.0\n",
      "7      30.0\n",
      "8     101.0\n",
      "9      82.0\n",
      "10     79.0\n",
      "11     60.0\n",
      "12      NaN\n",
      "13      NaN\n",
      "14      NaN\n",
      "15      NaN\n",
      "dtype: float64\n"
     ]
    }
   ],
   "source": [
    "print(s9+15)"
   ]
  },
  {
   "cell_type": "code",
   "execution_count": 29,
   "id": "3e692767",
   "metadata": {},
   "outputs": [
    {
     "name": "stdout",
     "output_type": "stream",
     "text": [
      "0     2.4\n",
      "1     5.4\n",
      "2     3.7\n",
      "3     4.9\n",
      "4     7.0\n",
      "5     1.2\n",
      "6     7.4\n",
      "7     1.5\n",
      "8     8.6\n",
      "9     6.7\n",
      "10    6.4\n",
      "11    4.5\n",
      "12    NaN\n",
      "13    NaN\n",
      "14    NaN\n",
      "15    NaN\n",
      "dtype: float64\n"
     ]
    }
   ],
   "source": [
    "print(s9/10)"
   ]
  },
  {
   "cell_type": "code",
   "execution_count": 30,
   "id": "afc9440f",
   "metadata": {},
   "outputs": [
    {
     "name": "stdout",
     "output_type": "stream",
     "text": [
      "0     14.0\n",
      "1     44.0\n",
      "2     27.0\n",
      "3     39.0\n",
      "4     60.0\n",
      "5      2.0\n",
      "6     64.0\n",
      "7      5.0\n",
      "8     76.0\n",
      "9     57.0\n",
      "10    54.0\n",
      "11    35.0\n",
      "12     NaN\n",
      "13     NaN\n",
      "14     NaN\n",
      "15     NaN\n",
      "dtype: float64\n"
     ]
    }
   ],
   "source": [
    "print(s9-10)"
   ]
  },
  {
   "cell_type": "code",
   "execution_count": 31,
   "id": "84790905",
   "metadata": {},
   "outputs": [
    {
     "name": "stdout",
     "output_type": "stream",
     "text": [
      "     Name  Runs\n",
      "0    Axar  1235\n",
      "1  Dinesh  3452\n",
      "2   Dhoni  5427\n",
      "3   Raina  6748\n"
     ]
    }
   ],
   "source": [
    "#pandas data frame\n",
    "\n",
    "s10=pd.DataFrame({'Name':['Axar','Dinesh','Dhoni','Raina',], 'Runs' : [1235,3452,5427,6748]})\n",
    "print(s10)"
   ]
  },
  {
   "cell_type": "code",
   "execution_count": 32,
   "id": "7e8e391c",
   "metadata": {},
   "outputs": [
    {
     "data": {
      "text/html": [
       "<div>\n",
       "<style scoped>\n",
       "    .dataframe tbody tr th:only-of-type {\n",
       "        vertical-align: middle;\n",
       "    }\n",
       "\n",
       "    .dataframe tbody tr th {\n",
       "        vertical-align: top;\n",
       "    }\n",
       "\n",
       "    .dataframe thead th {\n",
       "        text-align: right;\n",
       "    }\n",
       "</style>\n",
       "<table border=\"1\" class=\"dataframe\">\n",
       "  <thead>\n",
       "    <tr style=\"text-align: right;\">\n",
       "      <th></th>\n",
       "      <th>Name</th>\n",
       "      <th>Runs</th>\n",
       "    </tr>\n",
       "  </thead>\n",
       "  <tbody>\n",
       "    <tr>\n",
       "      <th>0</th>\n",
       "      <td>Axar</td>\n",
       "      <td>1235</td>\n",
       "    </tr>\n",
       "    <tr>\n",
       "      <th>1</th>\n",
       "      <td>Dinesh</td>\n",
       "      <td>3452</td>\n",
       "    </tr>\n",
       "    <tr>\n",
       "      <th>2</th>\n",
       "      <td>Dhoni</td>\n",
       "      <td>5427</td>\n",
       "    </tr>\n",
       "    <tr>\n",
       "      <th>3</th>\n",
       "      <td>Raina</td>\n",
       "      <td>6748</td>\n",
       "    </tr>\n",
       "  </tbody>\n",
       "</table>\n",
       "</div>"
      ],
      "text/plain": [
       "     Name  Runs\n",
       "0    Axar  1235\n",
       "1  Dinesh  3452\n",
       "2   Dhoni  5427\n",
       "3   Raina  6748"
      ]
     },
     "execution_count": 32,
     "metadata": {},
     "output_type": "execute_result"
    }
   ],
   "source": [
    "pd.DataFrame({'Name':['Axar','Dinesh','Dhoni','Raina',], 'Runs' : [1235,3452,5427,6748]})\n"
   ]
  },
  {
   "cell_type": "code",
   "execution_count": 33,
   "id": "8d02cedc",
   "metadata": {},
   "outputs": [],
   "source": [
    "a = pd.read_csv('D:/COLLEGE DOCUMENTS/CSV/BollywoodActorRanking.csv')"
   ]
  },
  {
   "cell_type": "code",
   "execution_count": 34,
   "id": "a1d9e9a3",
   "metadata": {},
   "outputs": [
    {
     "data": {
      "text/html": [
       "<div>\n",
       "<style scoped>\n",
       "    .dataframe tbody tr th:only-of-type {\n",
       "        vertical-align: middle;\n",
       "    }\n",
       "\n",
       "    .dataframe tbody tr th {\n",
       "        vertical-align: top;\n",
       "    }\n",
       "\n",
       "    .dataframe thead th {\n",
       "        text-align: right;\n",
       "    }\n",
       "</style>\n",
       "<table border=\"1\" class=\"dataframe\">\n",
       "  <thead>\n",
       "    <tr style=\"text-align: right;\">\n",
       "      <th></th>\n",
       "      <th>actorId</th>\n",
       "      <th>actorName</th>\n",
       "      <th>movieCount</th>\n",
       "      <th>ratingSum</th>\n",
       "      <th>normalizedMovieRank</th>\n",
       "      <th>googleHits</th>\n",
       "      <th>normalizedGoogleRank</th>\n",
       "      <th>normalizedRating</th>\n",
       "    </tr>\n",
       "  </thead>\n",
       "  <tbody>\n",
       "    <tr>\n",
       "      <th>0</th>\n",
       "      <td>373</td>\n",
       "      <td>Aamir Khan</td>\n",
       "      <td>11</td>\n",
       "      <td>1170</td>\n",
       "      <td>9.44862</td>\n",
       "      <td>2460000</td>\n",
       "      <td>7.34283</td>\n",
       "      <td>10.00000</td>\n",
       "    </tr>\n",
       "    <tr>\n",
       "      <th>1</th>\n",
       "      <td>374</td>\n",
       "      <td>Shah Rukh Khan</td>\n",
       "      <td>23</td>\n",
       "      <td>2000</td>\n",
       "      <td>7.55009</td>\n",
       "      <td>2670000</td>\n",
       "      <td>7.88458</td>\n",
       "      <td>9.22674</td>\n",
       "    </tr>\n",
       "    <tr>\n",
       "      <th>2</th>\n",
       "      <td>375</td>\n",
       "      <td>Salman Khan</td>\n",
       "      <td>36</td>\n",
       "      <td>2340</td>\n",
       "      <td>5.40217</td>\n",
       "      <td>3490000</td>\n",
       "      <td>10.00000</td>\n",
       "      <td>9.20821</td>\n",
       "    </tr>\n",
       "    <tr>\n",
       "      <th>3</th>\n",
       "      <td>376</td>\n",
       "      <td>Katrina Kaif</td>\n",
       "      <td>17</td>\n",
       "      <td>1640</td>\n",
       "      <td>8.48082</td>\n",
       "      <td>2120000</td>\n",
       "      <td>6.46570</td>\n",
       "      <td>8.94852</td>\n",
       "    </tr>\n",
       "    <tr>\n",
       "      <th>4</th>\n",
       "      <td>377</td>\n",
       "      <td>Deepika Padukone</td>\n",
       "      <td>16</td>\n",
       "      <td>1080</td>\n",
       "      <td>5.64674</td>\n",
       "      <td>3000000</td>\n",
       "      <td>8.73591</td>\n",
       "      <td>8.62716</td>\n",
       "    </tr>\n",
       "  </tbody>\n",
       "</table>\n",
       "</div>"
      ],
      "text/plain": [
       "   actorId         actorName  movieCount  ratingSum  normalizedMovieRank  \\\n",
       "0      373        Aamir Khan          11       1170              9.44862   \n",
       "1      374    Shah Rukh Khan          23       2000              7.55009   \n",
       "2      375       Salman Khan          36       2340              5.40217   \n",
       "3      376      Katrina Kaif          17       1640              8.48082   \n",
       "4      377  Deepika Padukone          16       1080              5.64674   \n",
       "\n",
       "   googleHits  normalizedGoogleRank  normalizedRating  \n",
       "0     2460000               7.34283          10.00000  \n",
       "1     2670000               7.88458           9.22674  \n",
       "2     3490000              10.00000           9.20821  \n",
       "3     2120000               6.46570           8.94852  \n",
       "4     3000000               8.73591           8.62716  "
      ]
     },
     "execution_count": 34,
     "metadata": {},
     "output_type": "execute_result"
    }
   ],
   "source": [
    "a.head()"
   ]
  },
  {
   "cell_type": "code",
   "execution_count": 35,
   "id": "83a0ea69",
   "metadata": {},
   "outputs": [
    {
     "data": {
      "text/html": [
       "<div>\n",
       "<style scoped>\n",
       "    .dataframe tbody tr th:only-of-type {\n",
       "        vertical-align: middle;\n",
       "    }\n",
       "\n",
       "    .dataframe tbody tr th {\n",
       "        vertical-align: top;\n",
       "    }\n",
       "\n",
       "    .dataframe thead th {\n",
       "        text-align: right;\n",
       "    }\n",
       "</style>\n",
       "<table border=\"1\" class=\"dataframe\">\n",
       "  <thead>\n",
       "    <tr style=\"text-align: right;\">\n",
       "      <th></th>\n",
       "      <th>actorId</th>\n",
       "      <th>actorName</th>\n",
       "      <th>movieCount</th>\n",
       "      <th>ratingSum</th>\n",
       "      <th>normalizedMovieRank</th>\n",
       "      <th>googleHits</th>\n",
       "      <th>normalizedGoogleRank</th>\n",
       "      <th>normalizedRating</th>\n",
       "    </tr>\n",
       "  </thead>\n",
       "  <tbody>\n",
       "    <tr>\n",
       "      <th>296</th>\n",
       "      <td>669</td>\n",
       "      <td>Achint Kaur</td>\n",
       "      <td>4</td>\n",
       "      <td>80</td>\n",
       "      <td>1.0</td>\n",
       "      <td>0</td>\n",
       "      <td>NaN</td>\n",
       "      <td>1.00</td>\n",
       "    </tr>\n",
       "    <tr>\n",
       "      <th>297</th>\n",
       "      <td>670</td>\n",
       "      <td>Yuvika Chaudhry</td>\n",
       "      <td>5</td>\n",
       "      <td>100</td>\n",
       "      <td>1.0</td>\n",
       "      <td>0</td>\n",
       "      <td>NaN</td>\n",
       "      <td>1.00</td>\n",
       "    </tr>\n",
       "    <tr>\n",
       "      <th>298</th>\n",
       "      <td>671</td>\n",
       "      <td>Pankaj Berry</td>\n",
       "      <td>5</td>\n",
       "      <td>100</td>\n",
       "      <td>1.0</td>\n",
       "      <td>0</td>\n",
       "      <td>NaN</td>\n",
       "      <td>1.00</td>\n",
       "    </tr>\n",
       "    <tr>\n",
       "      <th>299</th>\n",
       "      <td>672</td>\n",
       "      <td>Varun Dhawan</td>\n",
       "      <td>0</td>\n",
       "      <td>0</td>\n",
       "      <td>NaN</td>\n",
       "      <td>0</td>\n",
       "      <td>NaN</td>\n",
       "      <td>4.74</td>\n",
       "    </tr>\n",
       "    <tr>\n",
       "      <th>300</th>\n",
       "      <td>673</td>\n",
       "      <td>Nargis Fakhri</td>\n",
       "      <td>0</td>\n",
       "      <td>0</td>\n",
       "      <td>NaN</td>\n",
       "      <td>0</td>\n",
       "      <td>NaN</td>\n",
       "      <td>4.80</td>\n",
       "    </tr>\n",
       "  </tbody>\n",
       "</table>\n",
       "</div>"
      ],
      "text/plain": [
       "     actorId        actorName  movieCount  ratingSum  normalizedMovieRank  \\\n",
       "296      669      Achint Kaur           4         80                  1.0   \n",
       "297      670  Yuvika Chaudhry           5        100                  1.0   \n",
       "298      671     Pankaj Berry           5        100                  1.0   \n",
       "299      672     Varun Dhawan           0          0                  NaN   \n",
       "300      673    Nargis Fakhri           0          0                  NaN   \n",
       "\n",
       "     googleHits  normalizedGoogleRank  normalizedRating  \n",
       "296           0                   NaN              1.00  \n",
       "297           0                   NaN              1.00  \n",
       "298           0                   NaN              1.00  \n",
       "299           0                   NaN              4.74  \n",
       "300           0                   NaN              4.80  "
      ]
     },
     "execution_count": 35,
     "metadata": {},
     "output_type": "execute_result"
    }
   ],
   "source": [
    "a.tail()"
   ]
  },
  {
   "cell_type": "code",
   "execution_count": 36,
   "id": "4d8812bd",
   "metadata": {},
   "outputs": [
    {
     "data": {
      "text/plain": [
       "(301, 8)"
      ]
     },
     "execution_count": 36,
     "metadata": {},
     "output_type": "execute_result"
    }
   ],
   "source": [
    "a.shape"
   ]
  },
  {
   "cell_type": "code",
   "execution_count": 37,
   "id": "5bb26bac",
   "metadata": {},
   "outputs": [
    {
     "data": {
      "text/html": [
       "<div>\n",
       "<style scoped>\n",
       "    .dataframe tbody tr th:only-of-type {\n",
       "        vertical-align: middle;\n",
       "    }\n",
       "\n",
       "    .dataframe tbody tr th {\n",
       "        vertical-align: top;\n",
       "    }\n",
       "\n",
       "    .dataframe thead th {\n",
       "        text-align: right;\n",
       "    }\n",
       "</style>\n",
       "<table border=\"1\" class=\"dataframe\">\n",
       "  <thead>\n",
       "    <tr style=\"text-align: right;\">\n",
       "      <th></th>\n",
       "      <th>actorId</th>\n",
       "      <th>movieCount</th>\n",
       "      <th>ratingSum</th>\n",
       "      <th>normalizedMovieRank</th>\n",
       "      <th>googleHits</th>\n",
       "      <th>normalizedGoogleRank</th>\n",
       "      <th>normalizedRating</th>\n",
       "    </tr>\n",
       "  </thead>\n",
       "  <tbody>\n",
       "    <tr>\n",
       "      <th>count</th>\n",
       "      <td>301.000000</td>\n",
       "      <td>301.000000</td>\n",
       "      <td>301.000000</td>\n",
       "      <td>299.000000</td>\n",
       "      <td>3.010000e+02</td>\n",
       "      <td>189.000000</td>\n",
       "      <td>301.000000</td>\n",
       "    </tr>\n",
       "    <tr>\n",
       "      <th>mean</th>\n",
       "      <td>523.000000</td>\n",
       "      <td>10.232558</td>\n",
       "      <td>419.136213</td>\n",
       "      <td>2.768970</td>\n",
       "      <td>3.741886e+05</td>\n",
       "      <td>2.533937</td>\n",
       "      <td>2.933339</td>\n",
       "    </tr>\n",
       "    <tr>\n",
       "      <th>std</th>\n",
       "      <td>87.035433</td>\n",
       "      <td>8.508764</td>\n",
       "      <td>446.972689</td>\n",
       "      <td>1.626970</td>\n",
       "      <td>6.647169e+05</td>\n",
       "      <td>1.951501</td>\n",
       "      <td>1.747883</td>\n",
       "    </tr>\n",
       "    <tr>\n",
       "      <th>min</th>\n",
       "      <td>373.000000</td>\n",
       "      <td>0.000000</td>\n",
       "      <td>0.000000</td>\n",
       "      <td>1.000000</td>\n",
       "      <td>0.000000e+00</td>\n",
       "      <td>1.000000</td>\n",
       "      <td>1.000000</td>\n",
       "    </tr>\n",
       "    <tr>\n",
       "      <th>25%</th>\n",
       "      <td>448.000000</td>\n",
       "      <td>5.000000</td>\n",
       "      <td>140.000000</td>\n",
       "      <td>1.489130</td>\n",
       "      <td>0.000000e+00</td>\n",
       "      <td>1.242680</td>\n",
       "      <td>1.709770</td>\n",
       "    </tr>\n",
       "    <tr>\n",
       "      <th>50%</th>\n",
       "      <td>523.000000</td>\n",
       "      <td>7.000000</td>\n",
       "      <td>260.000000</td>\n",
       "      <td>2.369570</td>\n",
       "      <td>7.640000e+04</td>\n",
       "      <td>1.638930</td>\n",
       "      <td>2.493970</td>\n",
       "    </tr>\n",
       "    <tr>\n",
       "      <th>75%</th>\n",
       "      <td>598.000000</td>\n",
       "      <td>12.000000</td>\n",
       "      <td>500.000000</td>\n",
       "      <td>3.621045</td>\n",
       "      <td>3.850000e+05</td>\n",
       "      <td>2.967520</td>\n",
       "      <td>3.559640</td>\n",
       "    </tr>\n",
       "    <tr>\n",
       "      <th>max</th>\n",
       "      <td>673.000000</td>\n",
       "      <td>54.000000</td>\n",
       "      <td>2950.000000</td>\n",
       "      <td>10.000000</td>\n",
       "      <td>3.490000e+06</td>\n",
       "      <td>10.000000</td>\n",
       "      <td>10.000000</td>\n",
       "    </tr>\n",
       "  </tbody>\n",
       "</table>\n",
       "</div>"
      ],
      "text/plain": [
       "          actorId  movieCount    ratingSum  normalizedMovieRank    googleHits  \\\n",
       "count  301.000000  301.000000   301.000000           299.000000  3.010000e+02   \n",
       "mean   523.000000   10.232558   419.136213             2.768970  3.741886e+05   \n",
       "std     87.035433    8.508764   446.972689             1.626970  6.647169e+05   \n",
       "min    373.000000    0.000000     0.000000             1.000000  0.000000e+00   \n",
       "25%    448.000000    5.000000   140.000000             1.489130  0.000000e+00   \n",
       "50%    523.000000    7.000000   260.000000             2.369570  7.640000e+04   \n",
       "75%    598.000000   12.000000   500.000000             3.621045  3.850000e+05   \n",
       "max    673.000000   54.000000  2950.000000            10.000000  3.490000e+06   \n",
       "\n",
       "       normalizedGoogleRank  normalizedRating  \n",
       "count            189.000000        301.000000  \n",
       "mean               2.533937          2.933339  \n",
       "std                1.951501          1.747883  \n",
       "min                1.000000          1.000000  \n",
       "25%                1.242680          1.709770  \n",
       "50%                1.638930          2.493970  \n",
       "75%                2.967520          3.559640  \n",
       "max               10.000000         10.000000  "
      ]
     },
     "execution_count": 37,
     "metadata": {},
     "output_type": "execute_result"
    }
   ],
   "source": [
    "a.describe()"
   ]
  },
  {
   "cell_type": "code",
   "execution_count": 38,
   "id": "17bb1eb6",
   "metadata": {},
   "outputs": [
    {
     "data": {
      "text/plain": [
       "Index(['actorId', 'actorName', 'movieCount', 'ratingSum',\n",
       "       'normalizedMovieRank', 'googleHits', 'normalizedGoogleRank',\n",
       "       'normalizedRating'],\n",
       "      dtype='object')"
      ]
     },
     "execution_count": 38,
     "metadata": {},
     "output_type": "execute_result"
    }
   ],
   "source": [
    "a.columns"
   ]
  },
  {
   "cell_type": "code",
   "execution_count": 39,
   "id": "57562a8c",
   "metadata": {},
   "outputs": [
    {
     "data": {
      "text/plain": [
       "<pandas.core.indexing._iLocIndexer at 0x25708581360>"
      ]
     },
     "execution_count": 39,
     "metadata": {},
     "output_type": "execute_result"
    }
   ],
   "source": [
    "a.iloc()"
   ]
  },
  {
   "cell_type": "code",
   "execution_count": 40,
   "id": "ded65481",
   "metadata": {},
   "outputs": [
    {
     "data": {
      "text/html": [
       "<div>\n",
       "<style scoped>\n",
       "    .dataframe tbody tr th:only-of-type {\n",
       "        vertical-align: middle;\n",
       "    }\n",
       "\n",
       "    .dataframe tbody tr th {\n",
       "        vertical-align: top;\n",
       "    }\n",
       "\n",
       "    .dataframe thead th {\n",
       "        text-align: right;\n",
       "    }\n",
       "</style>\n",
       "<table border=\"1\" class=\"dataframe\">\n",
       "  <thead>\n",
       "    <tr style=\"text-align: right;\">\n",
       "      <th></th>\n",
       "      <th>actorName</th>\n",
       "      <th>movieCount</th>\n",
       "      <th>ratingSum</th>\n",
       "      <th>normalizedMovieRank</th>\n",
       "      <th>googleHits</th>\n",
       "      <th>normalizedGoogleRank</th>\n",
       "    </tr>\n",
       "  </thead>\n",
       "  <tbody>\n",
       "    <tr>\n",
       "      <th>1</th>\n",
       "      <td>Shah Rukh Khan</td>\n",
       "      <td>23</td>\n",
       "      <td>2000</td>\n",
       "      <td>7.55009</td>\n",
       "      <td>2670000</td>\n",
       "      <td>7.88458</td>\n",
       "    </tr>\n",
       "    <tr>\n",
       "      <th>2</th>\n",
       "      <td>Salman Khan</td>\n",
       "      <td>36</td>\n",
       "      <td>2340</td>\n",
       "      <td>5.40217</td>\n",
       "      <td>3490000</td>\n",
       "      <td>10.00000</td>\n",
       "    </tr>\n",
       "    <tr>\n",
       "      <th>3</th>\n",
       "      <td>Katrina Kaif</td>\n",
       "      <td>17</td>\n",
       "      <td>1640</td>\n",
       "      <td>8.48082</td>\n",
       "      <td>2120000</td>\n",
       "      <td>6.46570</td>\n",
       "    </tr>\n",
       "    <tr>\n",
       "      <th>4</th>\n",
       "      <td>Deepika Padukone</td>\n",
       "      <td>16</td>\n",
       "      <td>1080</td>\n",
       "      <td>5.64674</td>\n",
       "      <td>3000000</td>\n",
       "      <td>8.73591</td>\n",
       "    </tr>\n",
       "  </tbody>\n",
       "</table>\n",
       "</div>"
      ],
      "text/plain": [
       "          actorName  movieCount  ratingSum  normalizedMovieRank  googleHits  \\\n",
       "1    Shah Rukh Khan          23       2000              7.55009     2670000   \n",
       "2       Salman Khan          36       2340              5.40217     3490000   \n",
       "3      Katrina Kaif          17       1640              8.48082     2120000   \n",
       "4  Deepika Padukone          16       1080              5.64674     3000000   \n",
       "\n",
       "   normalizedGoogleRank  \n",
       "1               7.88458  \n",
       "2              10.00000  \n",
       "3               6.46570  \n",
       "4               8.73591  "
      ]
     },
     "execution_count": 40,
     "metadata": {},
     "output_type": "execute_result"
    }
   ],
   "source": [
    "a.iloc[1:5, 1:7]"
   ]
  },
  {
   "cell_type": "code",
   "execution_count": 41,
   "id": "b2ed8a7a",
   "metadata": {},
   "outputs": [
    {
     "data": {
      "text/html": [
       "<div>\n",
       "<style scoped>\n",
       "    .dataframe tbody tr th:only-of-type {\n",
       "        vertical-align: middle;\n",
       "    }\n",
       "\n",
       "    .dataframe tbody tr th {\n",
       "        vertical-align: top;\n",
       "    }\n",
       "\n",
       "    .dataframe thead th {\n",
       "        text-align: right;\n",
       "    }\n",
       "</style>\n",
       "<table border=\"1\" class=\"dataframe\">\n",
       "  <thead>\n",
       "    <tr style=\"text-align: right;\">\n",
       "      <th></th>\n",
       "      <th>actorName</th>\n",
       "      <th>movieCount</th>\n",
       "    </tr>\n",
       "  </thead>\n",
       "  <tbody>\n",
       "    <tr>\n",
       "      <th>0</th>\n",
       "      <td>Aamir Khan</td>\n",
       "      <td>11</td>\n",
       "    </tr>\n",
       "    <tr>\n",
       "      <th>1</th>\n",
       "      <td>Shah Rukh Khan</td>\n",
       "      <td>23</td>\n",
       "    </tr>\n",
       "    <tr>\n",
       "      <th>2</th>\n",
       "      <td>Salman Khan</td>\n",
       "      <td>36</td>\n",
       "    </tr>\n",
       "    <tr>\n",
       "      <th>3</th>\n",
       "      <td>Katrina Kaif</td>\n",
       "      <td>17</td>\n",
       "    </tr>\n",
       "    <tr>\n",
       "      <th>4</th>\n",
       "      <td>Deepika Padukone</td>\n",
       "      <td>16</td>\n",
       "    </tr>\n",
       "    <tr>\n",
       "      <th>5</th>\n",
       "      <td>Hrithik Roshan</td>\n",
       "      <td>16</td>\n",
       "    </tr>\n",
       "    <tr>\n",
       "      <th>6</th>\n",
       "      <td>Priyanka Chopra</td>\n",
       "      <td>36</td>\n",
       "    </tr>\n",
       "    <tr>\n",
       "      <th>7</th>\n",
       "      <td>Kareena Kapoor</td>\n",
       "      <td>37</td>\n",
       "    </tr>\n",
       "    <tr>\n",
       "      <th>8</th>\n",
       "      <td>Ranbir Kapoor</td>\n",
       "      <td>11</td>\n",
       "    </tr>\n",
       "    <tr>\n",
       "      <th>9</th>\n",
       "      <td>Kajol</td>\n",
       "      <td>6</td>\n",
       "    </tr>\n",
       "  </tbody>\n",
       "</table>\n",
       "</div>"
      ],
      "text/plain": [
       "          actorName  movieCount\n",
       "0        Aamir Khan          11\n",
       "1    Shah Rukh Khan          23\n",
       "2       Salman Khan          36\n",
       "3      Katrina Kaif          17\n",
       "4  Deepika Padukone          16\n",
       "5    Hrithik Roshan          16\n",
       "6   Priyanka Chopra          36\n",
       "7    Kareena Kapoor          37\n",
       "8     Ranbir Kapoor          11\n",
       "9             Kajol           6"
      ]
     },
     "execution_count": 41,
     "metadata": {},
     "output_type": "execute_result"
    }
   ],
   "source": [
    "a.loc[0:9,('actorName', 'movieCount')]\n",
    "\n"
   ]
  },
  {
   "cell_type": "code",
   "execution_count": 42,
   "id": "29dcfe8d",
   "metadata": {},
   "outputs": [
    {
     "data": {
      "text/html": [
       "<div>\n",
       "<style scoped>\n",
       "    .dataframe tbody tr th:only-of-type {\n",
       "        vertical-align: middle;\n",
       "    }\n",
       "\n",
       "    .dataframe tbody tr th {\n",
       "        vertical-align: top;\n",
       "    }\n",
       "\n",
       "    .dataframe thead th {\n",
       "        text-align: right;\n",
       "    }\n",
       "</style>\n",
       "<table border=\"1\" class=\"dataframe\">\n",
       "  <thead>\n",
       "    <tr style=\"text-align: right;\">\n",
       "      <th></th>\n",
       "      <th>actorId</th>\n",
       "      <th>actorName</th>\n",
       "      <th>movieCount</th>\n",
       "      <th>ratingSum</th>\n",
       "      <th>normalizedMovieRank</th>\n",
       "      <th>normalizedGoogleRank</th>\n",
       "      <th>normalizedRating</th>\n",
       "    </tr>\n",
       "  </thead>\n",
       "  <tbody>\n",
       "    <tr>\n",
       "      <th>0</th>\n",
       "      <td>373</td>\n",
       "      <td>Aamir Khan</td>\n",
       "      <td>11</td>\n",
       "      <td>1170</td>\n",
       "      <td>9.44862</td>\n",
       "      <td>7.34283</td>\n",
       "      <td>10.00000</td>\n",
       "    </tr>\n",
       "    <tr>\n",
       "      <th>1</th>\n",
       "      <td>374</td>\n",
       "      <td>Shah Rukh Khan</td>\n",
       "      <td>23</td>\n",
       "      <td>2000</td>\n",
       "      <td>7.55009</td>\n",
       "      <td>7.88458</td>\n",
       "      <td>9.22674</td>\n",
       "    </tr>\n",
       "    <tr>\n",
       "      <th>2</th>\n",
       "      <td>375</td>\n",
       "      <td>Salman Khan</td>\n",
       "      <td>36</td>\n",
       "      <td>2340</td>\n",
       "      <td>5.40217</td>\n",
       "      <td>10.00000</td>\n",
       "      <td>9.20821</td>\n",
       "    </tr>\n",
       "    <tr>\n",
       "      <th>3</th>\n",
       "      <td>376</td>\n",
       "      <td>Katrina Kaif</td>\n",
       "      <td>17</td>\n",
       "      <td>1640</td>\n",
       "      <td>8.48082</td>\n",
       "      <td>6.46570</td>\n",
       "      <td>8.94852</td>\n",
       "    </tr>\n",
       "    <tr>\n",
       "      <th>4</th>\n",
       "      <td>377</td>\n",
       "      <td>Deepika Padukone</td>\n",
       "      <td>16</td>\n",
       "      <td>1080</td>\n",
       "      <td>5.64674</td>\n",
       "      <td>8.73591</td>\n",
       "      <td>8.62716</td>\n",
       "    </tr>\n",
       "    <tr>\n",
       "      <th>...</th>\n",
       "      <td>...</td>\n",
       "      <td>...</td>\n",
       "      <td>...</td>\n",
       "      <td>...</td>\n",
       "      <td>...</td>\n",
       "      <td>...</td>\n",
       "      <td>...</td>\n",
       "    </tr>\n",
       "    <tr>\n",
       "      <th>296</th>\n",
       "      <td>669</td>\n",
       "      <td>Achint Kaur</td>\n",
       "      <td>4</td>\n",
       "      <td>80</td>\n",
       "      <td>1.00000</td>\n",
       "      <td>NaN</td>\n",
       "      <td>1.00000</td>\n",
       "    </tr>\n",
       "    <tr>\n",
       "      <th>297</th>\n",
       "      <td>670</td>\n",
       "      <td>Yuvika Chaudhry</td>\n",
       "      <td>5</td>\n",
       "      <td>100</td>\n",
       "      <td>1.00000</td>\n",
       "      <td>NaN</td>\n",
       "      <td>1.00000</td>\n",
       "    </tr>\n",
       "    <tr>\n",
       "      <th>298</th>\n",
       "      <td>671</td>\n",
       "      <td>Pankaj Berry</td>\n",
       "      <td>5</td>\n",
       "      <td>100</td>\n",
       "      <td>1.00000</td>\n",
       "      <td>NaN</td>\n",
       "      <td>1.00000</td>\n",
       "    </tr>\n",
       "    <tr>\n",
       "      <th>299</th>\n",
       "      <td>672</td>\n",
       "      <td>Varun Dhawan</td>\n",
       "      <td>0</td>\n",
       "      <td>0</td>\n",
       "      <td>NaN</td>\n",
       "      <td>NaN</td>\n",
       "      <td>4.74000</td>\n",
       "    </tr>\n",
       "    <tr>\n",
       "      <th>300</th>\n",
       "      <td>673</td>\n",
       "      <td>Nargis Fakhri</td>\n",
       "      <td>0</td>\n",
       "      <td>0</td>\n",
       "      <td>NaN</td>\n",
       "      <td>NaN</td>\n",
       "      <td>4.80000</td>\n",
       "    </tr>\n",
       "  </tbody>\n",
       "</table>\n",
       "<p>301 rows × 7 columns</p>\n",
       "</div>"
      ],
      "text/plain": [
       "     actorId         actorName  movieCount  ratingSum  normalizedMovieRank  \\\n",
       "0        373        Aamir Khan          11       1170              9.44862   \n",
       "1        374    Shah Rukh Khan          23       2000              7.55009   \n",
       "2        375       Salman Khan          36       2340              5.40217   \n",
       "3        376      Katrina Kaif          17       1640              8.48082   \n",
       "4        377  Deepika Padukone          16       1080              5.64674   \n",
       "..       ...               ...         ...        ...                  ...   \n",
       "296      669       Achint Kaur           4         80              1.00000   \n",
       "297      670   Yuvika Chaudhry           5        100              1.00000   \n",
       "298      671      Pankaj Berry           5        100              1.00000   \n",
       "299      672      Varun Dhawan           0          0                  NaN   \n",
       "300      673     Nargis Fakhri           0          0                  NaN   \n",
       "\n",
       "     normalizedGoogleRank  normalizedRating  \n",
       "0                 7.34283          10.00000  \n",
       "1                 7.88458           9.22674  \n",
       "2                10.00000           9.20821  \n",
       "3                 6.46570           8.94852  \n",
       "4                 8.73591           8.62716  \n",
       "..                    ...               ...  \n",
       "296                   NaN           1.00000  \n",
       "297                   NaN           1.00000  \n",
       "298                   NaN           1.00000  \n",
       "299                   NaN           4.74000  \n",
       "300                   NaN           4.80000  \n",
       "\n",
       "[301 rows x 7 columns]"
      ]
     },
     "execution_count": 42,
     "metadata": {},
     "output_type": "execute_result"
    }
   ],
   "source": [
    "a.drop('googleHits', axis=1)"
   ]
  },
  {
   "cell_type": "code",
   "execution_count": 43,
   "id": "b0e4089e",
   "metadata": {},
   "outputs": [
    {
     "data": {
      "text/html": [
       "<div>\n",
       "<style scoped>\n",
       "    .dataframe tbody tr th:only-of-type {\n",
       "        vertical-align: middle;\n",
       "    }\n",
       "\n",
       "    .dataframe tbody tr th {\n",
       "        vertical-align: top;\n",
       "    }\n",
       "\n",
       "    .dataframe thead th {\n",
       "        text-align: right;\n",
       "    }\n",
       "</style>\n",
       "<table border=\"1\" class=\"dataframe\">\n",
       "  <thead>\n",
       "    <tr style=\"text-align: right;\">\n",
       "      <th></th>\n",
       "      <th>actorId</th>\n",
       "      <th>actorName</th>\n",
       "      <th>movieCount</th>\n",
       "      <th>ratingSum</th>\n",
       "      <th>normalizedMovieRank</th>\n",
       "      <th>googleHits</th>\n",
       "      <th>normalizedGoogleRank</th>\n",
       "      <th>normalizedRating</th>\n",
       "    </tr>\n",
       "  </thead>\n",
       "  <tbody>\n",
       "    <tr>\n",
       "      <th>0</th>\n",
       "      <td>373</td>\n",
       "      <td>Aamir Khan</td>\n",
       "      <td>11</td>\n",
       "      <td>1170</td>\n",
       "      <td>9.44862</td>\n",
       "      <td>2460000</td>\n",
       "      <td>7.34283</td>\n",
       "      <td>10.00000</td>\n",
       "    </tr>\n",
       "    <tr>\n",
       "      <th>1</th>\n",
       "      <td>374</td>\n",
       "      <td>Shah Rukh Khan</td>\n",
       "      <td>23</td>\n",
       "      <td>2000</td>\n",
       "      <td>7.55009</td>\n",
       "      <td>2670000</td>\n",
       "      <td>7.88458</td>\n",
       "      <td>9.22674</td>\n",
       "    </tr>\n",
       "    <tr>\n",
       "      <th>3</th>\n",
       "      <td>376</td>\n",
       "      <td>Katrina Kaif</td>\n",
       "      <td>17</td>\n",
       "      <td>1640</td>\n",
       "      <td>8.48082</td>\n",
       "      <td>2120000</td>\n",
       "      <td>6.46570</td>\n",
       "      <td>8.94852</td>\n",
       "    </tr>\n",
       "    <tr>\n",
       "      <th>4</th>\n",
       "      <td>377</td>\n",
       "      <td>Deepika Padukone</td>\n",
       "      <td>16</td>\n",
       "      <td>1080</td>\n",
       "      <td>5.64674</td>\n",
       "      <td>3000000</td>\n",
       "      <td>8.73591</td>\n",
       "      <td>8.62716</td>\n",
       "    </tr>\n",
       "    <tr>\n",
       "      <th>5</th>\n",
       "      <td>378</td>\n",
       "      <td>Hrithik Roshan</td>\n",
       "      <td>16</td>\n",
       "      <td>1120</td>\n",
       "      <td>5.89130</td>\n",
       "      <td>2650000</td>\n",
       "      <td>7.83298</td>\n",
       "      <td>8.25194</td>\n",
       "    </tr>\n",
       "    <tr>\n",
       "      <th>...</th>\n",
       "      <td>...</td>\n",
       "      <td>...</td>\n",
       "      <td>...</td>\n",
       "      <td>...</td>\n",
       "      <td>...</td>\n",
       "      <td>...</td>\n",
       "      <td>...</td>\n",
       "      <td>...</td>\n",
       "    </tr>\n",
       "    <tr>\n",
       "      <th>296</th>\n",
       "      <td>669</td>\n",
       "      <td>Achint Kaur</td>\n",
       "      <td>4</td>\n",
       "      <td>80</td>\n",
       "      <td>1.00000</td>\n",
       "      <td>0</td>\n",
       "      <td>NaN</td>\n",
       "      <td>1.00000</td>\n",
       "    </tr>\n",
       "    <tr>\n",
       "      <th>297</th>\n",
       "      <td>670</td>\n",
       "      <td>Yuvika Chaudhry</td>\n",
       "      <td>5</td>\n",
       "      <td>100</td>\n",
       "      <td>1.00000</td>\n",
       "      <td>0</td>\n",
       "      <td>NaN</td>\n",
       "      <td>1.00000</td>\n",
       "    </tr>\n",
       "    <tr>\n",
       "      <th>298</th>\n",
       "      <td>671</td>\n",
       "      <td>Pankaj Berry</td>\n",
       "      <td>5</td>\n",
       "      <td>100</td>\n",
       "      <td>1.00000</td>\n",
       "      <td>0</td>\n",
       "      <td>NaN</td>\n",
       "      <td>1.00000</td>\n",
       "    </tr>\n",
       "    <tr>\n",
       "      <th>299</th>\n",
       "      <td>672</td>\n",
       "      <td>Varun Dhawan</td>\n",
       "      <td>0</td>\n",
       "      <td>0</td>\n",
       "      <td>NaN</td>\n",
       "      <td>0</td>\n",
       "      <td>NaN</td>\n",
       "      <td>4.74000</td>\n",
       "    </tr>\n",
       "    <tr>\n",
       "      <th>300</th>\n",
       "      <td>673</td>\n",
       "      <td>Nargis Fakhri</td>\n",
       "      <td>0</td>\n",
       "      <td>0</td>\n",
       "      <td>NaN</td>\n",
       "      <td>0</td>\n",
       "      <td>NaN</td>\n",
       "      <td>4.80000</td>\n",
       "    </tr>\n",
       "  </tbody>\n",
       "</table>\n",
       "<p>298 rows × 8 columns</p>\n",
       "</div>"
      ],
      "text/plain": [
       "     actorId         actorName  movieCount  ratingSum  normalizedMovieRank  \\\n",
       "0        373        Aamir Khan          11       1170              9.44862   \n",
       "1        374    Shah Rukh Khan          23       2000              7.55009   \n",
       "3        376      Katrina Kaif          17       1640              8.48082   \n",
       "4        377  Deepika Padukone          16       1080              5.64674   \n",
       "5        378    Hrithik Roshan          16       1120              5.89130   \n",
       "..       ...               ...         ...        ...                  ...   \n",
       "296      669       Achint Kaur           4         80              1.00000   \n",
       "297      670   Yuvika Chaudhry           5        100              1.00000   \n",
       "298      671      Pankaj Berry           5        100              1.00000   \n",
       "299      672      Varun Dhawan           0          0                  NaN   \n",
       "300      673     Nargis Fakhri           0          0                  NaN   \n",
       "\n",
       "     googleHits  normalizedGoogleRank  normalizedRating  \n",
       "0       2460000               7.34283          10.00000  \n",
       "1       2670000               7.88458           9.22674  \n",
       "3       2120000               6.46570           8.94852  \n",
       "4       3000000               8.73591           8.62716  \n",
       "5       2650000               7.83298           8.25194  \n",
       "..          ...                   ...               ...  \n",
       "296           0                   NaN           1.00000  \n",
       "297           0                   NaN           1.00000  \n",
       "298           0                   NaN           1.00000  \n",
       "299           0                   NaN           4.74000  \n",
       "300           0                   NaN           4.80000  \n",
       "\n",
       "[298 rows x 8 columns]"
      ]
     },
     "execution_count": 43,
     "metadata": {},
     "output_type": "execute_result"
    }
   ],
   "source": [
    "a.drop([2,9,6], axis=0)"
   ]
  },
  {
   "cell_type": "code",
   "execution_count": 44,
   "id": "4bbd4d5b",
   "metadata": {},
   "outputs": [
    {
     "name": "stderr",
     "output_type": "stream",
     "text": [
      "C:\\Users\\yashr\\AppData\\Local\\Temp\\ipykernel_15232\\1798845826.py:1: FutureWarning: Dropping of nuisance columns in DataFrame reductions (with 'numeric_only=None') is deprecated; in a future version this will raise TypeError.  Select only valid columns before calling the reduction.\n",
      "  a.mean()\n"
     ]
    },
    {
     "data": {
      "text/plain": [
       "actorId                    523.000000\n",
       "movieCount                  10.232558\n",
       "ratingSum                  419.136213\n",
       "normalizedMovieRank          2.768970\n",
       "googleHits              374188.571429\n",
       "normalizedGoogleRank         2.533937\n",
       "normalizedRating             2.933339\n",
       "dtype: float64"
      ]
     },
     "execution_count": 44,
     "metadata": {},
     "output_type": "execute_result"
    }
   ],
   "source": [
    "a.mean()"
   ]
  },
  {
   "cell_type": "code",
   "execution_count": 45,
   "id": "35e5ac51",
   "metadata": {},
   "outputs": [
    {
     "name": "stderr",
     "output_type": "stream",
     "text": [
      "C:\\Users\\yashr\\AppData\\Local\\Temp\\ipykernel_15232\\2800935211.py:1: FutureWarning: Dropping of nuisance columns in DataFrame reductions (with 'numeric_only=None') is deprecated; in a future version this will raise TypeError.  Select only valid columns before calling the reduction.\n",
      "  a.std()\n"
     ]
    },
    {
     "data": {
      "text/plain": [
       "actorId                     87.035433\n",
       "movieCount                   8.508764\n",
       "ratingSum                  446.972689\n",
       "normalizedMovieRank          1.626970\n",
       "googleHits              664716.859134\n",
       "normalizedGoogleRank         1.951501\n",
       "normalizedRating             1.747883\n",
       "dtype: float64"
      ]
     },
     "execution_count": 45,
     "metadata": {},
     "output_type": "execute_result"
    }
   ],
   "source": [
    "a.std()"
   ]
  },
  {
   "cell_type": "code",
   "execution_count": 46,
   "id": "bedd92e2",
   "metadata": {},
   "outputs": [
    {
     "name": "stderr",
     "output_type": "stream",
     "text": [
      "C:\\Users\\yashr\\AppData\\Local\\Temp\\ipykernel_15232\\3240354540.py:1: FutureWarning: Dropping of nuisance columns in DataFrame reductions (with 'numeric_only=None') is deprecated; in a future version this will raise TypeError.  Select only valid columns before calling the reduction.\n",
      "  a.median()\n"
     ]
    },
    {
     "data": {
      "text/plain": [
       "actorId                   523.00000\n",
       "movieCount                  7.00000\n",
       "ratingSum                 260.00000\n",
       "normalizedMovieRank         2.36957\n",
       "googleHits              76400.00000\n",
       "normalizedGoogleRank        1.63893\n",
       "normalizedRating            2.49397\n",
       "dtype: float64"
      ]
     },
     "execution_count": 46,
     "metadata": {},
     "output_type": "execute_result"
    }
   ],
   "source": [
    "a.median()"
   ]
  },
  {
   "cell_type": "code",
   "execution_count": 47,
   "id": "bc30b3b6",
   "metadata": {},
   "outputs": [
    {
     "data": {
      "text/plain": [
       "actorId                        373\n",
       "actorName               Aamir Khan\n",
       "movieCount                       0\n",
       "ratingSum                        0\n",
       "normalizedMovieRank            1.0\n",
       "googleHits                       0\n",
       "normalizedGoogleRank           1.0\n",
       "normalizedRating               1.0\n",
       "dtype: object"
      ]
     },
     "execution_count": 47,
     "metadata": {},
     "output_type": "execute_result"
    }
   ],
   "source": [
    "a.min()"
   ]
  },
  {
   "cell_type": "code",
   "execution_count": 48,
   "id": "d717d779",
   "metadata": {},
   "outputs": [
    {
     "data": {
      "text/plain": [
       "actorId                        673\n",
       "actorName               Zayed Khan\n",
       "movieCount                      54\n",
       "ratingSum                     2950\n",
       "normalizedMovieRank           10.0\n",
       "googleHits                 3490000\n",
       "normalizedGoogleRank          10.0\n",
       "normalizedRating              10.0\n",
       "dtype: object"
      ]
     },
     "execution_count": 48,
     "metadata": {},
     "output_type": "execute_result"
    }
   ],
   "source": [
    "a.max()"
   ]
  },
  {
   "cell_type": "markdown",
   "id": "69eab924",
   "metadata": {},
   "source": [
    "\n",
    "# Matplotlib"
   ]
  },
  {
   "cell_type": "code",
   "execution_count": 49,
   "id": "2a1a3f52",
   "metadata": {},
   "outputs": [],
   "source": [
    "from matplotlib import pyplot as plt"
   ]
  },
  {
   "cell_type": "code",
   "execution_count": 50,
   "id": "ef69e13c",
   "metadata": {},
   "outputs": [
    {
     "name": "stdout",
     "output_type": "stream",
     "text": [
      "[98 54 72 21 88 74 62 79 57 65]\n"
     ]
    }
   ],
   "source": [
    "x = np.random.randint(1,100, 10)\n",
    "print(x)"
   ]
  },
  {
   "cell_type": "code",
   "execution_count": 51,
   "id": "6bd7304e",
   "metadata": {},
   "outputs": [
    {
     "name": "stdout",
     "output_type": "stream",
     "text": [
      "[1274  702  936  273 1144  962  806 1027  741  845]\n"
     ]
    }
   ],
   "source": [
    "y  = x*13\n",
    "print(y)"
   ]
  },
  {
   "cell_type": "code",
   "execution_count": 52,
   "id": "9e134f39",
   "metadata": {},
   "outputs": [
    {
     "data": {
      "image/png": "[encoded data removed]",
      "text/plain": [
       "<Figure size 432x288 with 1 Axes>"
      ]
     },
     "metadata": {
      "needs_background": "light"
     },
     "output_type": "display_data"
    }
   ],
   "source": [
    "plt.plot(x,y)\n",
    "plt.show()"
   ]
  },
  {
   "cell_type": "code",
   "execution_count": 53,
   "id": "17f2ca79",
   "metadata": {},
   "outputs": [
    {
     "data": {
      "image/png": "[encoded data removed]",
      "text/plain": [
       "<Figure size 432x288 with 1 Axes>"
      ]
     },
     "metadata": {
      "needs_background": "light"
     },
     "output_type": "display_data"
    }
   ],
   "source": [
    "#adding title and labels\n",
    "plt.plot(x,y)\n",
    "plt.title('Taxes')\n",
    "plt.xlabel('timeperiod')\n",
    "plt.ylabel('prices')\n",
    "plt.show()"
   ]
  },
  {
   "cell_type": "code",
   "execution_count": 54,
   "id": "926b404c",
   "metadata": {},
   "outputs": [
    {
     "data": {
      "image/png": "[encoded data removed]",
      "text/plain": [
       "<Figure size 432x288 with 1 Axes>"
      ]
     },
     "metadata": {
      "needs_background": "light"
     },
     "output_type": "display_data"
    }
   ],
   "source": [
    "#line color\n",
    "plt.plot(x,y, color='r', linestyle=':', linewidth= 2)\n",
    "plt.show()"
   ]
  },
  {
   "cell_type": "code",
   "execution_count": 55,
   "id": "60dd90e5",
   "metadata": {},
   "outputs": [
    {
     "data": {
      "image/png": "[encoded data removed]",
      "text/plain": [
       "<Figure size 432x288 with 1 Axes>"
      ]
     },
     "metadata": {
      "needs_background": "light"
     },
     "output_type": "display_data"
    }
   ],
   "source": [
    "#adding two line in same plot\n",
    "x = np.arange(1,11)\n",
    "y1= x*2\n",
    "y2= x*5\n",
    "\n",
    "plt.plot(x,y1, color='r', linestyle=':', linewidth=3)\n",
    "plt.title('Boys')\n",
    "\n",
    "plt.plot(x, y2, color='b', linestyle = ':', linewidth= 2)\n",
    "plt.title('Girls')\n",
    "plt.xlabel('timespan')\n",
    "plt.ylabel('marks')\n",
    "plt.grid(True)\n",
    "plt.show()"
   ]
  },
  {
   "cell_type": "code",
   "execution_count": 56,
   "id": "ea06d9c0",
   "metadata": {},
   "outputs": [
    {
     "data": {
      "image/png": "[encoded data removed]",
      "text/plain": [
       "<Figure size 432x288 with 2 Axes>"
      ]
     },
     "metadata": {
      "needs_background": "light"
     },
     "output_type": "display_data"
    }
   ],
   "source": [
    "#adding sub plots\n",
    "\n",
    "y1 = x *2\n",
    "y2= x*5\n",
    "\n",
    "plt.subplot(1,2,1)\n",
    "plt.plot(x, y1, color='g',linestyle =':' , linewidth= '2')\n",
    "\n",
    "plt.subplot(1,2,2)\n",
    "plt.plot(x, y2, color ='r', linestyle= ':' , linewidth= 3)\n",
    "plt.show()"
   ]
  },
  {
   "cell_type": "code",
   "execution_count": 57,
   "id": "25caccf0",
   "metadata": {},
   "outputs": [
    {
     "data": {
      "text/plain": [
       "<function matplotlib.pyplot.show(close=None, block=None)>"
      ]
     },
     "execution_count": 57,
     "metadata": {},
     "output_type": "execute_result"
    },
    {
     "data": {
      "image/png": "[encoded data removed]",
      "text/plain": [
       "<Figure size 432x288 with 1 Axes>"
      ]
     },
     "metadata": {
      "needs_background": "light"
     },
     "output_type": "display_data"
    }
   ],
   "source": [
    "#Bar Plot\n",
    "players=  {'Axar':1211,' Dinesh': 3468,'Dhoni':5674,'Raina':6323}\n",
    "names= list(players.keys())\n",
    "values = list(players.values())\n",
    "plt.bar(names, values , color = 'black', linewidth =10, linestyle= ':')\n",
    "plt.title('Batting')\n",
    "plt.xlabel('Player')\n",
    "plt.ylabel('Runs')\n",
    "plt.grid(True)\n",
    "plt.show"
   ]
  },
  {
   "cell_type": "code",
   "execution_count": 58,
   "id": "5a6ad69a",
   "metadata": {},
   "outputs": [
    {
     "data": {
      "text/plain": [
       "<function matplotlib.pyplot.show(close=None, block=None)>"
      ]
     },
     "execution_count": 58,
     "metadata": {},
     "output_type": "execute_result"
    },
    {
     "data": {
      "image/png": "[encoded data removed]",
      "text/plain": [
       "<Figure size 432x288 with 1 Axes>"
      ]
     },
     "metadata": {
      "needs_background": "light"
     },
     "output_type": "display_data"
    }
   ],
   "source": [
    "players=  {'Axar':1211,' Dinesh': 3468,'Dhoni':5674,'Raina':6323}\n",
    "names= list(players.keys())\n",
    "values = list(players.values())\n",
    "plt.barh(names, values , color = 'yellow')\n",
    "plt.title('Batting')\n",
    "plt.xlabel('Player')\n",
    "plt.ylabel('Runs')\n",
    "plt.grid(True)\n",
    "plt.show"
   ]
  },
  {
   "cell_type": "code",
   "execution_count": 59,
   "id": "64f54ac5",
   "metadata": {},
   "outputs": [
    {
     "data": {
      "image/png": "[encoded data removed]",
      "text/plain": [
       "<Figure size 432x288 with 1 Axes>"
      ]
     },
     "metadata": {
      "needs_background": "light"
     },
     "output_type": "display_data"
    }
   ],
   "source": [
    "#Scatter Plot\n",
    "\n",
    "x = np.arange(10,30)\n",
    "y = [1,4,5,7,9,6,3,7,4,8,9,7,5,3,2,5,8,6,5,2]\n",
    "plt.scatter(x,y)\n",
    "plt.show()"
   ]
  },
  {
   "cell_type": "code",
   "execution_count": 60,
   "id": "dd93329c",
   "metadata": {},
   "outputs": [
    {
     "data": {
      "image/png": "[encoded data removed]",
      "text/plain": [
       "<Figure size 432x288 with 1 Axes>"
      ]
     },
     "metadata": {
      "needs_background": "light"
     },
     "output_type": "display_data"
    }
   ],
   "source": [
    "x =[10,20,30,40,50,60,70,80,90]\n",
    "a= [8,5,8,7,5,4,9,1,3]\n",
    "plt.scatter(x, a, marker= '*', c='g', s=50)\n",
    "plt.show()"
   ]
  },
  {
   "cell_type": "code",
   "execution_count": 61,
   "id": "c7f0ea37",
   "metadata": {},
   "outputs": [
    {
     "data": {
      "image/png": "[encoded data removed]",
      "text/plain": [
       "<Figure size 432x288 with 1 Axes>"
      ]
     },
     "metadata": {
      "needs_background": "light"
     },
     "output_type": "display_data"
    }
   ],
   "source": [
    "#adding two markers in the same plot\n",
    "\n",
    "x = [2010,2011,2012,2013,2014,2015,2016,2017,2018,2019, 2020, 2021]\n",
    "a = [800,655,764,956,465,665,355,234,341, 454,432,122]\n",
    "plt.scatter(x, a , marker='*', color ='b', s=50)\n",
    "plt.show()"
   ]
  },
  {
   "cell_type": "code",
   "execution_count": 62,
   "id": "5f8f78f6",
   "metadata": {},
   "outputs": [
    {
     "data": {
      "image/png": "[encoded data removed]",
      "text/plain": [
       "<Figure size 432x288 with 2 Axes>"
      ]
     },
     "metadata": {
      "needs_background": "light"
     },
     "output_type": "display_data"
    }
   ],
   "source": [
    "x = [2010,2011,2012,2013,2014,2015,2016,2017,2018,2019, 2020, 2021]\n",
    "a = [8100,6155,764,956,1465,2665,3155,1234,3341, 3454,2432,122]\n",
    "b = [3142,4265,456,678,7685,3465,5674,2445,4645,4234,3245,2341]\n",
    "plt.subplot(1,2,1)\n",
    "plt.scatter(x, a , marker='*', color ='b', s=50)\n",
    "plt.subplot(1,2,2)\n",
    "plt.scatter(x, b , marker='*', color ='y', s=50)\n",
    "plt.show()"
   ]
  },
  {
   "cell_type": "code",
   "execution_count": 63,
   "id": "518f9761",
   "metadata": {},
   "outputs": [
    {
     "data": {
      "text/plain": [
       "<function matplotlib.pyplot.show(close=None, block=None)>"
      ]
     },
     "execution_count": 63,
     "metadata": {},
     "output_type": "execute_result"
    },
    {
     "data": {
      "image/png": "[encoded data removed]",
      "text/plain": [
       "<Figure size 432x288 with 1 Axes>"
      ]
     },
     "metadata": {
      "needs_background": "light"
     },
     "output_type": "display_data"
    }
   ],
   "source": [
    "#Histogram\n",
    "\n",
    "d = [15,45,43,37,33,36,85,44,37,57]\n",
    "plt.hist(d)\n",
    "plt.show\n"
   ]
  },
  {
   "cell_type": "code",
   "execution_count": 64,
   "id": "687815df",
   "metadata": {},
   "outputs": [
    {
     "data": {
      "image/png": "[encoded data removed]",
      "text/plain": [
       "<Figure size 432x288 with 1 Axes>"
      ]
     },
     "metadata": {
      "needs_background": "light"
     },
     "output_type": "display_data"
    }
   ],
   "source": [
    "plt.hist(d, color='g', bins= 7)\n",
    "plt.show()"
   ]
  },
  {
   "cell_type": "code",
   "execution_count": 65,
   "id": "f7830e00",
   "metadata": {},
   "outputs": [],
   "source": [
    "a = pd.read_csv('D:/COLLEGE DOCUMENTS/CSV/BollywoodActorRanking.csv')"
   ]
  },
  {
   "cell_type": "code",
   "execution_count": 66,
   "id": "212752dc",
   "metadata": {},
   "outputs": [
    {
     "data": {
      "text/html": [
       "<div>\n",
       "<style scoped>\n",
       "    .dataframe tbody tr th:only-of-type {\n",
       "        vertical-align: middle;\n",
       "    }\n",
       "\n",
       "    .dataframe tbody tr th {\n",
       "        vertical-align: top;\n",
       "    }\n",
       "\n",
       "    .dataframe thead th {\n",
       "        text-align: right;\n",
       "    }\n",
       "</style>\n",
       "<table border=\"1\" class=\"dataframe\">\n",
       "  <thead>\n",
       "    <tr style=\"text-align: right;\">\n",
       "      <th></th>\n",
       "      <th>actorId</th>\n",
       "      <th>actorName</th>\n",
       "      <th>movieCount</th>\n",
       "      <th>ratingSum</th>\n",
       "      <th>normalizedMovieRank</th>\n",
       "      <th>googleHits</th>\n",
       "      <th>normalizedGoogleRank</th>\n",
       "      <th>normalizedRating</th>\n",
       "    </tr>\n",
       "  </thead>\n",
       "  <tbody>\n",
       "    <tr>\n",
       "      <th>0</th>\n",
       "      <td>373</td>\n",
       "      <td>Aamir Khan</td>\n",
       "      <td>11</td>\n",
       "      <td>1170</td>\n",
       "      <td>9.44862</td>\n",
       "      <td>2460000</td>\n",
       "      <td>7.34283</td>\n",
       "      <td>10.00000</td>\n",
       "    </tr>\n",
       "    <tr>\n",
       "      <th>1</th>\n",
       "      <td>374</td>\n",
       "      <td>Shah Rukh Khan</td>\n",
       "      <td>23</td>\n",
       "      <td>2000</td>\n",
       "      <td>7.55009</td>\n",
       "      <td>2670000</td>\n",
       "      <td>7.88458</td>\n",
       "      <td>9.22674</td>\n",
       "    </tr>\n",
       "    <tr>\n",
       "      <th>2</th>\n",
       "      <td>375</td>\n",
       "      <td>Salman Khan</td>\n",
       "      <td>36</td>\n",
       "      <td>2340</td>\n",
       "      <td>5.40217</td>\n",
       "      <td>3490000</td>\n",
       "      <td>10.00000</td>\n",
       "      <td>9.20821</td>\n",
       "    </tr>\n",
       "    <tr>\n",
       "      <th>3</th>\n",
       "      <td>376</td>\n",
       "      <td>Katrina Kaif</td>\n",
       "      <td>17</td>\n",
       "      <td>1640</td>\n",
       "      <td>8.48082</td>\n",
       "      <td>2120000</td>\n",
       "      <td>6.46570</td>\n",
       "      <td>8.94852</td>\n",
       "    </tr>\n",
       "    <tr>\n",
       "      <th>4</th>\n",
       "      <td>377</td>\n",
       "      <td>Deepika Padukone</td>\n",
       "      <td>16</td>\n",
       "      <td>1080</td>\n",
       "      <td>5.64674</td>\n",
       "      <td>3000000</td>\n",
       "      <td>8.73591</td>\n",
       "      <td>8.62716</td>\n",
       "    </tr>\n",
       "  </tbody>\n",
       "</table>\n",
       "</div>"
      ],
      "text/plain": [
       "   actorId         actorName  movieCount  ratingSum  normalizedMovieRank  \\\n",
       "0      373        Aamir Khan          11       1170              9.44862   \n",
       "1      374    Shah Rukh Khan          23       2000              7.55009   \n",
       "2      375       Salman Khan          36       2340              5.40217   \n",
       "3      376      Katrina Kaif          17       1640              8.48082   \n",
       "4      377  Deepika Padukone          16       1080              5.64674   \n",
       "\n",
       "   googleHits  normalizedGoogleRank  normalizedRating  \n",
       "0     2460000               7.34283          10.00000  \n",
       "1     2670000               7.88458           9.22674  \n",
       "2     3490000              10.00000           9.20821  \n",
       "3     2120000               6.46570           8.94852  \n",
       "4     3000000               8.73591           8.62716  "
      ]
     },
     "execution_count": 66,
     "metadata": {},
     "output_type": "execute_result"
    }
   ],
   "source": [
    "a.head()\n"
   ]
  },
  {
   "cell_type": "code",
   "execution_count": 67,
   "id": "c27f7ebb",
   "metadata": {},
   "outputs": [
    {
     "data": {
      "image/png": "[encoded data removed]",
      "text/plain": [
       "<Figure size 432x288 with 1 Axes>"
      ]
     },
     "metadata": {
      "needs_background": "light"
     },
     "output_type": "display_data"
    }
   ],
   "source": [
    "plt.hist(a['movieCount'], color= 'r')\n",
    "plt.show()"
   ]
  },
  {
   "cell_type": "code",
   "execution_count": 68,
   "id": "4cfd3dba",
   "metadata": {},
   "outputs": [
    {
     "data": {
      "image/png": "[encoded data removed]",
      "text/plain": [
       "<Figure size 432x288 with 1 Axes>"
      ]
     },
     "metadata": {
      "needs_background": "light"
     },
     "output_type": "display_data"
    }
   ],
   "source": [
    "#box plot\n",
    "\n",
    "d = [15,45,43,37,33,36,85,44,37,57]\n",
    "x =[10,20,30,40,50,60,70,80,90]\n",
    "a= [81,52,8,7,52,44,9,1,3]\n",
    "y = [31,42,5,37,39,64,3,7,4,8,94,73,52,33,42,52,8,46,52,32]\n",
    "\n",
    "e = list([d,x,a,y])\n",
    "plt.boxplot(e)\n",
    "plt.show()"
   ]
  },
  {
   "cell_type": "code",
   "execution_count": 69,
   "id": "818a2903",
   "metadata": {},
   "outputs": [
    {
     "data": {
      "image/png": "[encoded data removed]",
      "text/plain": [
       "<Figure size 432x288 with 1 Axes>"
      ]
     },
     "metadata": {
      "needs_background": "light"
     },
     "output_type": "display_data"
    }
   ],
   "source": [
    "#violin plot\n",
    "\n",
    "plt.violinplot(e)\n",
    "plt.show()"
   ]
  },
  {
   "cell_type": "code",
   "execution_count": 70,
   "id": "ed01938a",
   "metadata": {},
   "outputs": [
    {
     "data": {
      "image/png": "[encoded data removed]",
      "text/plain": [
       "<Figure size 432x288 with 1 Axes>"
      ]
     },
     "metadata": {},
     "output_type": "display_data"
    }
   ],
   "source": [
    "#pie chart\n",
    "\n",
    "sub = ['CN','DBMS', 'OS', 'ML']\n",
    "percent = [20, 15, 25, 45]\n",
    "plt.pie(percent,labels=sub )\n",
    "plt.show()"
   ]
  },
  {
   "cell_type": "code",
   "execution_count": null,
   "id": "ea099453",
   "metadata": {},
   "outputs": [],
   "source": []
  }
 ],
 "metadata": {
  "kernelspec": {
   "display_name": "Python 3 (ipykernel)",
   "language": "python",
   "name": "python3"
  },
  "language_info": {
   "codemirror_mode": {
    "name": "ipython",
    "version": 3
   },
   "file_extension": ".py",
   "mimetype": "text/x-python",
   "name": "python",
   "nbconvert_exporter": "python",
   "pygments_lexer": "ipython3",
   "version": "3.8.6"
  }
 },
 "nbformat": 4,
 "nbformat_minor": 5
}
